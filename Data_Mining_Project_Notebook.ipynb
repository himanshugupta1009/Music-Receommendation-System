{
 "cells": [
  {
   "cell_type": "code",
   "execution_count": 2,
   "metadata": {
    "pycharm": {
     "is_executing": false
    }
   },
   "outputs": [
    {
     "traceback": [
      "\u001b[1;31m---------------------------------------------------------------------------\u001b[0m",
      "\u001b[1;31mModuleNotFoundError\u001b[0m                       Traceback (most recent call last)",
      "\u001b[1;32m<ipython-input-2-db0d6348baac>\u001b[0m in \u001b[0;36m<module>\u001b[1;34m\u001b[0m\n\u001b[0;32m      3\u001b[0m \u001b[1;32mimport\u001b[0m \u001b[0mmatplotlib\u001b[0m\u001b[1;33m.\u001b[0m\u001b[0mpylab\u001b[0m \u001b[1;32mas\u001b[0m \u001b[0mplt\u001b[0m\u001b[1;33m\u001b[0m\u001b[1;33m\u001b[0m\u001b[0m\n\u001b[0;32m      4\u001b[0m \u001b[1;32mimport\u001b[0m \u001b[0moperator\u001b[0m\u001b[1;33m\u001b[0m\u001b[1;33m\u001b[0m\u001b[0m\n\u001b[1;32m----> 5\u001b[1;33m \u001b[1;32mfrom\u001b[0m \u001b[0mmlxtend\u001b[0m\u001b[1;33m.\u001b[0m\u001b[0mfrequent_patterns\u001b[0m \u001b[1;32mimport\u001b[0m \u001b[0mapriori\u001b[0m\u001b[1;33m\u001b[0m\u001b[1;33m\u001b[0m\u001b[0m\n\u001b[0m\u001b[0;32m      6\u001b[0m \u001b[1;32mfrom\u001b[0m \u001b[0mmlxtend\u001b[0m\u001b[1;33m.\u001b[0m\u001b[0mpreprocessing\u001b[0m \u001b[1;32mimport\u001b[0m \u001b[0mTransactionEncoder\u001b[0m\u001b[1;33m\u001b[0m\u001b[1;33m\u001b[0m\u001b[0m\n\u001b[0;32m      7\u001b[0m \u001b[1;33m\u001b[0m\u001b[0m\n",
      "\u001b[1;31mModuleNotFoundError\u001b[0m: No module named 'mlxtend'"
     ],
     "ename": "ModuleNotFoundError",
     "evalue": "No module named 'mlxtend'",
     "output_type": "error"
    }
   ],
   "source": [
    "import pandas as pd\n",
    "import sys\n",
    "import matplotlib.pylab as plt\n",
    "import operator\n",
    "from mlxtend.frequent_patterns import apriori\n",
    "from mlxtend.preprocessing import TransactionEncoder"
   ]
  },
  {
   "cell_type": "code",
   "execution_count": null,
   "metadata": {
    "pycharm": {
     "is_executing": false
    }
   },
   "outputs": [],
   "source": [
    "# Converted file by using DataProcessing.py\n",
    "uid_songid_file_location = './Dataset/byUser.csv'\n",
    "songid_uid_file_location = './Dataset/bySong.csv'\n",
    "# Download from https://www.kaggle.com/c/msdchallenge/data\n",
    "songid_mappings_file_location = './Dataset/kaggle_songs.txt' \n",
    "uid_songid_triplets_file_location = './Dataset/kaggle_visible_evaluation_triplets.txt'\n"
   ]
  },
  {
   "cell_type": "code",
   "execution_count": null,
   "metadata": {
    "pycharm": {
     "is_executing": false
    }
   },
   "outputs": [],
   "source": [
    "uid_songid_file = open(uid_songid_file_location)\n",
    "uid_songid_file_data = []\n",
    "for line in uid_songid_file:\n",
    "    uid_songid_file_data.append(line.strip().split('\\t')[1].strip().split(','))\n",
    "uid_songid_file_data = uid_songid_file_data[1:]\n",
    "uid_songid_file.close()"
   ]
  },
  {
   "cell_type": "code",
   "execution_count": null,
   "metadata": {
    "pycharm": {
     "is_executing": false
    }
   },
   "outputs": [],
   "source": [
    "songid_mappings_file = open(songid_mappings_file_location)\n",
    "songid_mappings = {}\n",
    "for line in songid_mappings_file:\n",
    "    #print(line)\n",
    "    temp_var = line.strip().split()\n",
    "    songid_mappings[temp_var[0]] = int(temp_var[1])\n",
    "\n",
    "songid_mappings_file.close()\n",
    "#songid_mappings"
   ]
  },
  {
   "cell_type": "code",
   "execution_count": null,
   "metadata": {
    "pycharm": {
     "is_executing": false
    }
   },
   "outputs": [],
   "source": [
    "def get_global_song_frequency(songid_mappings, song_count_filename):\n",
    "    \n",
    "    frequency_dictionary ={}\n",
    "    song_count_file = open(song_count_filename)\n",
    "    for data in song_count_file:\n",
    "        temp_var = data.strip().split('\\t')[1:]\n",
    "        mapped_index = str(songid_mappings[temp_var[0]])\n",
    "        if mapped_index in frequency_dictionary:\n",
    "            frequency_dictionary[mapped_index] += int(temp_var[1])\n",
    "        else:\n",
    "            frequency_dictionary[mapped_index] = int(temp_var[1])\n",
    "            \n",
    "    return frequency_dictionary\n",
    "\n",
    "fd = get_global_song_frequency(songid_mappings,uid_songid_triplets_file_location)"
   ]
  },
  {
   "cell_type": "code",
   "execution_count": null,
   "metadata": {
    "pycharm": {
     "is_executing": false
    }
   },
   "outputs": [],
   "source": [
    "lists = sorted(fd.items())\n",
    "x, y = zip(*lists) \n",
    "fig, ax = plt.subplots(nrows=1, ncols=1, figsize=(15,9))\n",
    "ax.plot(x, y, color=\"steelblue\")\n",
    "ax.set_xlabel(\"Song_Id\", fontsize=16)\n",
    "ax.set_ylabel(\"Frequency\", fontsize=16)\n",
    "plt.show()"
   ]
  },
  {
   "cell_type": "code",
   "execution_count": null,
   "metadata": {
    "pycharm": {
     "is_executing": false
    }
   },
   "outputs": [],
   "source": [
    "fd_sorted_by_count_desc = sorted(fd.items(), key=operator.itemgetter(1),reverse=True)\n",
    "#lists = sorted(fd_sorted_by_count_desc.items())\n",
    "x, y = zip(*fd_sorted_by_count_desc) \n",
    "x\n",
    "fig, ax = plt.subplots(nrows=1, ncols=1, figsize=(12,6))\n",
    "ax.scatter(x, y, color=\"steelblue\")\n",
    "ax.set_xlabel(\"Song_Id\", fontsize=16)\n",
    "ax.set_ylabel(\"Frequency\", fontsize=16)\n",
    "plt.show()"
   ]
  },
  {
   "cell_type": "code",
   "execution_count": null,
   "metadata": {
    "pycharm": {
     "is_executing": false
    }
   },
   "outputs": [],
   "source": [
    "x = [5,4,3,2,1]\n",
    "y = [10,8,6,4,2]\n",
    "fig, ax = plt.subplots(nrows=1, ncols=1, figsize=(15,9))\n",
    "ax.plot(x, y, color=\"steelblue\")\n",
    "ax.set_xlabel(\"Song_Id\", fontsize=16)\n",
    "ax.set_ylabel(\"Frequency\", fontsize=16)\n",
    "plt.show()\n"
   ]
  },
  {
   "cell_type": "code",
   "execution_count": null,
   "metadata": {
    "pycharm": {
     "is_executing": false
    }
   },
   "outputs": [],
   "source": [
    "for itemset in uid_songid_file_data:\n",
    "    for item_num in range(len(itemset)):\n",
    "        itemset[item_num] = songid_mappings[itemset[item_num]]    "
   ]
  },
  {
   "cell_type": "code",
   "execution_count": null,
   "metadata": {
    "pycharm": {
     "is_executing": false
    }
   },
   "outputs": [],
   "source": [
    "uid_songid_transaction_data = uid_songid_file_data[1:5000]"
   ]
  },
  {
   "cell_type": "code",
   "execution_count": null,
   "metadata": {
    "pycharm": {
     "is_executing": false
    }
   },
   "outputs": [],
   "source": [
    "transaction_encoder = TransactionEncoder()\n",
    "transaction_encoder_nd_array = transaction_encoder.fit(uid_songid_transaction_data).transform(uid_songid_transaction_data)\n",
    "df = pd.DataFrame(transaction_encoder_nd_array, columns=transaction_encoder.columns_)\n",
    "df"
   ]
  },
  {
   "cell_type": "code",
   "execution_count": null,
   "metadata": {
    "pycharm": {
     "is_executing": false
    }
   },
   "outputs": [],
   "source": [
    "sys.stdout.flush()"
   ]
  },
  {
   "cell_type": "code",
   "execution_count": null,
   "metadata": {
    "pycharm": {
     "is_executing": false
    }
   },
   "outputs": [],
   "source": [
    "from mlxtend.frequent_patterns import apriori\n",
    "\n",
    "apriori(df, min_support=0.01)"
   ]
  },
  {
   "cell_type": "code",
   "execution_count": null,
   "metadata": {
    "pycharm": {
     "is_executing": false
    }
   },
   "outputs": [],
   "source": [
    "from apyori import apriori\n",
    "\n",
    "results = list(apriori(d))\n",
    "results"
   ]
  },
  {
   "cell_type": "code",
   "execution_count": null,
   "metadata": {
    "pycharm": {
     "is_executing": false
    }
   },
   "outputs": [],
   "source": [
    "v = [5,6,7,8,9]\n",
    "h = [1,2,3,4,5,6,7,8,9,10]\n",
    "\n",
    "gg = [item in h for item in v]\n",
    "gg"
   ]
  },
  {
   "cell_type": "code",
   "execution_count": null,
   "metadata": {
    "pycharm": {
     "is_executing": false
    }
   },
   "outputs": [],
   "source": [
    "def lala():\n",
    "    return (1, 2, 0), list([])"
   ]
  },
  {
   "cell_type": "code",
   "execution_count": null,
   "metadata": {
    "pycharm": {
     "is_executing": false
    }
   },
   "outputs": [],
   "source": [
    "lala()"
   ]
  }
 ],
 "metadata": {
  "kernelspec": {
   "display_name": "Python 3",
   "language": "python",
   "name": "python3"
  },
  "language_info": {
   "codemirror_mode": {
    "name": "ipython",
    "version": 3
   },
   "file_extension": ".py",
   "mimetype": "text/x-python",
   "name": "python",
   "nbconvert_exporter": "python",
   "pygments_lexer": "ipython3",
   "version": "3.7.3"
  },
  "pycharm": {
   "stem_cell": {
    "cell_type": "raw",
    "source": [],
    "metadata": {
     "collapsed": false
    }
   }
  }
 },
 "nbformat": 4,
 "nbformat_minor": 2
}