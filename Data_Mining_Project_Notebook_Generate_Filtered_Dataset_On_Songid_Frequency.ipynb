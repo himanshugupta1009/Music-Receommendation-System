{
 "cells": [
  {
   "cell_type": "code",
   "execution_count": 1,
   "metadata": {},
   "outputs": [],
   "source": [
    "import pandas as pd\n",
    "import sys\n",
    "import matplotlib.pylab as plt\n",
    "import operator\n",
    "from mlxtend.frequent_patterns import apriori\n",
    "from mlxtend.preprocessing import TransactionEncoder"
   ]
  },
  {
   "cell_type": "code",
   "execution_count": 3,
   "metadata": {},
   "outputs": [],
   "source": [
    "uid_songid_file_location = './Dataset/byUser.csv'\n",
    "songid_uid_file_location = './Dataset/bySong.csv'\n",
    "songid_mappings_file_location = './Dataset/kaggle_songs.txt'\n",
    "uid_songid_triplets_file_location = './Dataset/kaggle_visible_evaluation_triplets.txt'"
   ]
  },
  {
   "cell_type": "code",
   "execution_count": 4,
   "metadata": {},
   "outputs": [],
   "source": [
    "uid_songid_file = open(uid_songid_file_location)\n",
    "uid_songid_file_data = []\n",
    "for line in uid_songid_file:\n",
    "    uid_songid_file_data.append(line.strip().split('\\t')[1].strip().split(','))\n",
    "uid_songid_file_data = uid_songid_file_data[1:]\n",
    "uid_songid_file.close()"
   ]
  },
  {
   "cell_type": "code",
   "execution_count": 5,
   "metadata": {},
   "outputs": [],
   "source": [
    "songid_mappings_file = open(songid_mappings_file_location)\n",
    "songid_mappings = {}\n",
    "for line in songid_mappings_file:\n",
    "    #print(line)\n",
    "    temp_var = line.strip().split()\n",
    "    songid_mappings[temp_var[0]] = int(temp_var[1])\n",
    "\n",
    "songid_mappings_file.close()\n",
    "#songid_mappings"
   ]
  },
  {
   "cell_type": "code",
   "execution_count": 6,
   "metadata": {},
   "outputs": [],
   "source": [
    "#Returns the global frequency of every song.\n",
    "#A dictionary whose key is the song_id(in numerical format) and its value is the total \n",
    "#number of times it was heard by all the users.\n",
    "\n",
    "def get_global_song_frequency(songid_mappings, song_count_filename):\n",
    "    \n",
    "    frequency_dictionary ={}\n",
    "    song_count_file = open(song_count_filename)\n",
    "    for data in song_count_file:\n",
    "        temp_var = data.strip().split('\\t')[1:]\n",
    "        mapped_index = songid_mappings[temp_var[0]]\n",
    "        if mapped_index in frequency_dictionary:\n",
    "            frequency_dictionary[mapped_index] += int(temp_var[1])\n",
    "        else:\n",
    "            frequency_dictionary[mapped_index] = int(temp_var[1])\n",
    "            \n",
    "    return frequency_dictionary\n",
    "\n",
    "fd = get_global_song_frequency(songid_mappings,uid_songid_triplets_file_location)"
   ]
  },
  {
   "cell_type": "code",
   "execution_count": 110,
   "metadata": {},
   "outputs": [],
   "source": [
    "def get_songs_with_freq_10_to_5000(all_song_frequency_distribution_dict):\n",
    "    \n",
    "    filtered_song_list = []\n",
    "    for song_id,frequency in all_song_frequency_distribution_dict.items():\n",
    "        if(frequency>10 and frequency<=5000):\n",
    "            filtered_song_list.append(song_id)\n",
    "    \n",
    "    filtered_song_list.sort()\n",
    "    return filtered_song_list\n",
    "\n",
    "filtered_song_list = get_songs_with_freq_10_to_5000(fd)"
   ]
  },
  {
   "cell_type": "code",
   "execution_count": 111,
   "metadata": {},
   "outputs": [],
   "source": [
    "#In transactional type data, convert hashed song_id to its corresponding numerical song_id \n",
    "\n",
    "for itemset in uid_songid_file_data:\n",
    "    for item_num in range(len(itemset)):\n",
    "        itemset[item_num] = songid_mappings[itemset[item_num]]   \n",
    "    itemset.sort()"
   ]
  },
  {
   "cell_type": "code",
   "execution_count": 112,
   "metadata": {},
   "outputs": [],
   "source": [
    "# Remove those songs from the transaction that are not frequent.\n",
    "\n",
    "for i in range(len(uid_songid_file_data)):\n",
    "    itemset = uid_songid_file_data[i]\n",
    "    for item_num in itemset:\n",
    "        if item_num not in filtered_song_list:\n",
    "            itemset.remove(item_num)\n",
    "            "
   ]
  },
  {
   "cell_type": "code",
   "execution_count": 104,
   "metadata": {},
   "outputs": [],
   "source": [
    "#Write the reduced dataset(frequency of songs in [11,5000]) in a file \n",
    "\n",
    "with open('./Dataset/filtered_uid_songid_dataset_freq_11_to_5000.txt', 'w') as filehandle:\n",
    "    for itemset in uid_songid_file_data:\n",
    "        filehandle.write('%s\\n' % itemset)"
   ]
  }
 ],
 "metadata": {
  "kernelspec": {
   "display_name": "Python 3",
   "language": "python",
   "name": "python3"
  },
  "language_info": {
   "codemirror_mode": {
    "name": "ipython",
    "version": 3
   },
   "file_extension": ".py",
   "mimetype": "text/x-python",
   "name": "python",
   "nbconvert_exporter": "python",
   "pygments_lexer": "ipython3",
   "version": "3.7.3"
  }
 },
 "nbformat": 4,
 "nbformat_minor": 2
}
