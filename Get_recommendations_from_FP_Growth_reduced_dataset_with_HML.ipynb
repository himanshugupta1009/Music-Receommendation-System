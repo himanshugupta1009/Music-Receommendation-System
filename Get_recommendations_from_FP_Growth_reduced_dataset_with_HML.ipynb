{
 "cells": [
  {
   "cell_type": "code",
   "execution_count": 5,
   "metadata": {},
   "outputs": [],
   "source": [
    "import ast\n",
    "import pandas as pd\n",
    "import sys\n",
    "import matplotlib.pylab as plt\n",
    "import timeit"
   ]
  },
  {
   "cell_type": "code",
   "execution_count": 6,
   "metadata": {},
   "outputs": [],
   "source": [
    "fp_growth_itemsets_file_location = './Dataset/frequent_itemsets_FP_growth_reduced_dataset_with_HML.txt'"
   ]
  },
  {
   "cell_type": "code",
   "execution_count": 7,
   "metadata": {},
   "outputs": [],
   "source": [
    "fp_growth_itemsets_file = open(fp_growth_itemsets_file_location)\n",
    "fp_growth_itemsets = []\n",
    "for line in fp_growth_itemsets_file:\n",
    "    itemset = line.strip().replace(']','').replace('[','').replace(\"'\",'').replace(\" \",'').split(',')\n",
    "    fp_growth_itemsets.append(itemset)\n",
    "    \n",
    "fp_growth_itemsets_file.close()"
   ]
  },
  {
   "cell_type": "code",
   "execution_count": 8,
   "metadata": {},
   "outputs": [
    {
     "data": {
      "text/plain": [
       "[['165401L', '241705L'],\n",
       " ['165401L', '245936L'],\n",
       " ['245936L', '45592L'],\n",
       " ['165401L', '334240L'],\n",
       " ['277126L', '86545L'],\n",
       " ['241705L', '24825L'],\n",
       " ['165401L', '24825L'],\n",
       " ['233632L', '357810L'],\n",
       " ['170541L', '38941L']]"
      ]
     },
     "execution_count": 8,
     "metadata": {},
     "output_type": "execute_result"
    }
   ],
   "source": [
    "fp_growth_itemsets[1:10]"
   ]
  },
  {
   "cell_type": "code",
   "execution_count": 10,
   "metadata": {},
   "outputs": [
    {
     "name": "stdout",
     "output_type": "stream",
     "text": [
      "Recommendations for songid = 133222 in descending order are : \n",
      "['180115L', '285175L', '234086L', '31761L', '241227L', '354188L', '363105L', '57448L', '162907L', '310842L', '347697L', '48148L', '284507L', '59066L', '97555L', '363719L', '75497L', '148639L', '109790L']\n"
     ]
    }
   ],
   "source": [
    "#Generate recommendations\n",
    "\n",
    "songid = 133222\n",
    "\n",
    "possible_songids = [str(songid)+'L', str(songid)+'M', str(songid)+'H']\n",
    "\n",
    "recommendations_L = []\n",
    "recommendations_M = []\n",
    "recommendations_H = []\n",
    "\n",
    "for itemset in fp_growth_itemsets:\n",
    "    \n",
    "    songid_exists_flag = (possible_songids[0] in itemset) or (possible_songids[1] in itemset) or (possible_songids[2] in itemset)\n",
    "    \n",
    "    if( songid_exists_flag ):\n",
    "        to_be_added = itemset.copy()\n",
    "        if possible_songids[0] in itemset:\n",
    "            to_be_added.remove(possible_songids[0])\n",
    "        if possible_songids[1] in itemset:\n",
    "            to_be_added.remove(possible_songids[1])\n",
    "        if possible_songids[2] in itemset:\n",
    "            to_be_added.remove(possible_songids[2])\n",
    "        for song in to_be_added:\n",
    "            if 'L' in song:\n",
    "                if song not in recommendations_L:\n",
    "                    recommendations_L.append(song)\n",
    "            elif 'M' in song:\n",
    "                if song not in recommendations_M:\n",
    "                    recommendations_M.append(song)\n",
    "            elif 'H' in song:\n",
    "                if song not in recommendations_H:\n",
    "                    recommendations_H.append(song)\n",
    "            \n",
    "recommendations = recommendations_H + recommendations_M + recommendations_L\n",
    "\n",
    "if(len(recommendations) == 0):\n",
    "    print(\"We don't have song recommendations for this song from this method. Sorry!\")\n",
    "else:\n",
    "    print(\"Recommendations for songid = \"+str(songid) +\" in descending order are : \" )\n",
    "    print(recommendations)\n"
   ]
  },
  {
   "cell_type": "code",
   "execution_count": 12,
   "metadata": {},
   "outputs": [
    {
     "data": {
      "text/plain": [
       "[180115,\n",
       " 285175,\n",
       " 234086,\n",
       " 31761,\n",
       " 241227,\n",
       " 354188,\n",
       " 363105,\n",
       " 57448,\n",
       " 162907,\n",
       " 310842,\n",
       " 347697,\n",
       " 48148,\n",
       " 284507,\n",
       " 59066,\n",
       " 97555,\n",
       " 363719,\n",
       " 75497,\n",
       " 148639,\n",
       " 109790]"
      ]
     },
     "execution_count": 12,
     "metadata": {},
     "output_type": "execute_result"
    }
   ],
   "source": [
    "clean_recommendations = []\n",
    "for i in range(len(recommendations)):\n",
    "    if 'L' in recommendations[i]:\n",
    "        clean_recommendations.append(int(recommendations[i].replace('L','')))\n",
    "    elif 'M' in recommendations[i]:\n",
    "        clean_recommendations.append(int(recommendations[i].replace('M','')))\n",
    "    elif 'H' in recommendations[i]:\n",
    "        clean_recommendations.append(int(recommendations[i].replace('H','')))\n",
    "        \n",
    "clean_recommendations"
   ]
  },
  {
   "cell_type": "code",
   "execution_count": null,
   "metadata": {},
   "outputs": [],
   "source": []
  }
 ],
 "metadata": {
  "kernelspec": {
   "display_name": "Python 3",
   "language": "python",
   "name": "python3"
  },
  "language_info": {
   "codemirror_mode": {
    "name": "ipython",
    "version": 3
   },
   "file_extension": ".py",
   "mimetype": "text/x-python",
   "name": "python",
   "nbconvert_exporter": "python",
   "pygments_lexer": "ipython3",
   "version": "3.7.3"
  }
 },
 "nbformat": 4,
 "nbformat_minor": 2
}
