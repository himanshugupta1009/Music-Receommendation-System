{
 "cells": [
  {
   "cell_type": "code",
   "execution_count": 3,
   "metadata": {},
   "outputs": [],
   "source": [
    "import pandas as pd\n",
    "import sys\n",
    "import matplotlib.pylab as plt\n",
    "import operator"
   ]
  },
  {
   "cell_type": "code",
   "execution_count": 4,
   "metadata": {},
   "outputs": [],
   "source": [
    "uid_songid_file_location = './Dataset/Result_by_userid_count_multiple_songs.csv'\n",
    "songid_uid_file_location = './Dataset/Result_by_songid_count_multiple_users.csv'\n",
    "songid_mappings_file_location = './Dataset/kaggle_songs.txt'\n",
    "uid_songid_triplets_file_location = './Dataset/kaggle_visible_evaluation_triplets.txt'"
   ]
  },
  {
   "cell_type": "code",
   "execution_count": 10,
   "metadata": {},
   "outputs": [],
   "source": [
    "uid_songid_file = open(uid_songid_file_location)\n",
    "uid_songid_file_data = []\n",
    "for line in uid_songid_file:\n",
    "    to_be_appended = line.strip().replace('[','').replace(']','').replace('\"','').replace(\"'\",'').strip().replace(' ','').split(',')\n",
    "    uid_songid_file_data.append(to_be_appended[1:])\n",
    "uid_songid_file_data = uid_songid_file_data[1:]\n",
    "uid_songid_file.close()"
   ]
  },
  {
   "cell_type": "code",
   "execution_count": 11,
   "metadata": {},
   "outputs": [],
   "source": [
    "songid_mappings_file = open(songid_mappings_file_location)\n",
    "songid_mappings = {}\n",
    "for line in songid_mappings_file:\n",
    "    #print(line)\n",
    "    temp_var = line.strip().split()\n",
    "    songid_mappings[temp_var[0]] = int(temp_var[1])\n",
    "\n",
    "songid_mappings_file.close()\n",
    "#songid_mappings"
   ]
  },
  {
   "cell_type": "code",
   "execution_count": 12,
   "metadata": {},
   "outputs": [],
   "source": [
    "#In transactional type data, convert hashed song_id to its corresponding numerical song_id \n",
    "\n",
    "for itemset in uid_songid_file_data:\n",
    "    for item_num in range(len(itemset)):\n",
    "        if(type(itemset[item_num]) == str):\n",
    "            itemset[item_num] = itemset[item_num].strip()\n",
    "            itemset[item_num] = songid_mappings[itemset[item_num]]   \n",
    "    itemset.sort()"
   ]
  },
  {
   "cell_type": "code",
   "execution_count": 14,
   "metadata": {},
   "outputs": [
    {
     "data": {
      "text/plain": [
       "[5001, 64151, 125810, 125810, 202552, 251217, 282660, 298741]"
      ]
     },
     "execution_count": 14,
     "metadata": {},
     "output_type": "execute_result"
    }
   ],
   "source": [
    "uid_songid_file_data[13]"
   ]
  },
  {
   "cell_type": "code",
   "execution_count": 15,
   "metadata": {},
   "outputs": [],
   "source": [
    "#Returns the global frequency of every song.\n",
    "#A dictionary whose key is the song_id(in numerical format) and its value is the total \n",
    "#number of times it was heard by all the users.\n",
    "\n",
    "def get_global_song_frequency(songid_mappings, song_count_filename):\n",
    "    \n",
    "    frequency_dictionary ={}\n",
    "    song_count_file = open(song_count_filename)\n",
    "    for data in song_count_file:\n",
    "        temp_var = data.strip().split('\\t')[1:]\n",
    "        mapped_index = songid_mappings[temp_var[0]]\n",
    "        if mapped_index in frequency_dictionary:\n",
    "            frequency_dictionary[mapped_index] += int(temp_var[1])\n",
    "        else:\n",
    "            frequency_dictionary[mapped_index] = int(temp_var[1])\n",
    "            \n",
    "    return frequency_dictionary\n",
    "\n",
    "fd = get_global_song_frequency(songid_mappings,uid_songid_triplets_file_location)"
   ]
  },
  {
   "cell_type": "code",
   "execution_count": 16,
   "metadata": {},
   "outputs": [],
   "source": [
    "def get_songs_with_freq_10_to_5000(all_song_frequency_distribution_dict):\n",
    "    \n",
    "    filtered_song_list = []\n",
    "    for song_id,frequency in all_song_frequency_distribution_dict.items():\n",
    "        if(frequency>10 and frequency<=5000):\n",
    "            filtered_song_list.append(song_id)\n",
    "    \n",
    "    filtered_song_list.sort()\n",
    "    return filtered_song_list\n",
    "\n",
    "filtered_song_list = get_songs_with_freq_10_to_5000(fd)"
   ]
  },
  {
   "cell_type": "code",
   "execution_count": 19,
   "metadata": {},
   "outputs": [],
   "source": [
    "# Remove those songs from the transaction that are not frequent.\n",
    "\n",
    "for i in range(len(uid_songid_file_data)):\n",
    "    uid_songid_file_data[i].sort()\n",
    "    itemset = uid_songid_file_data[i].copy()\n",
    "    for item_num in uid_songid_file_data[i]:\n",
    "        if item_num not in filtered_song_list:\n",
    "            #itemset = filter(lambda a: a != item_num, itemset)\n",
    "            #itemset.remove(item_num)\n",
    "            while item_num in itemset: itemset.remove(item_num)\n",
    "    uid_songid_file_data[i] = itemset\n",
    "            "
   ]
  },
  {
   "cell_type": "code",
   "execution_count": 25,
   "metadata": {},
   "outputs": [
    {
     "data": {
      "text/plain": [
       "[41446,\n",
       " 83123,\n",
       " 85724,\n",
       " 115697,\n",
       " 115697,\n",
       " 115697,\n",
       " 115697,\n",
       " 115697,\n",
       " 115697,\n",
       " 115697,\n",
       " 115697,\n",
       " 115697,\n",
       " 115697,\n",
       " 115697,\n",
       " 115697,\n",
       " 115697,\n",
       " 115697,\n",
       " 115697,\n",
       " 126580,\n",
       " 126580,\n",
       " 126580,\n",
       " 141927,\n",
       " 168365,\n",
       " 228083,\n",
       " 289108,\n",
       " 289108,\n",
       " 289108,\n",
       " 289108,\n",
       " 375283]"
      ]
     },
     "execution_count": 25,
     "metadata": {},
     "output_type": "execute_result"
    }
   ],
   "source": [
    "uid_songid_file_data[3]"
   ]
  },
  {
   "cell_type": "code",
   "execution_count": 21,
   "metadata": {},
   "outputs": [],
   "source": [
    "#Write the reduced dataset(frequency of songs in [11,5000]) in a file \n",
    "\n",
    "with open('./Dataset/filtered_uid_songid_dataset_freq_11_to_5000_with_repetitions.txt', 'w') as filehandle:\n",
    "    for itemset in uid_songid_file_data:\n",
    "        filehandle.write('%s\\n' % itemset)"
   ]
  },
  {
   "cell_type": "code",
   "execution_count": 26,
   "metadata": {},
   "outputs": [
    {
     "data": {
      "text/plain": [
       "['41446L',\n",
       " '83123L',\n",
       " '85724L',\n",
       " '115697H',\n",
       " '126580L',\n",
       " '141927L',\n",
       " '168365L',\n",
       " '228083L',\n",
       " '289108L',\n",
       " '375283L']"
      ]
     },
     "execution_count": 26,
     "metadata": {},
     "output_type": "execute_result"
    }
   ],
   "source": [
    "#Modify the data to reflect if a song is preferred with high, medium or low frequency by a user. \n",
    "#NOTE: Call this only once. Calling it again and again can append L/M/H again and again and we don't want that.\n",
    "\n",
    "for user_num in range(len(uid_songid_file_data)):\n",
    "    itemset = uid_songid_file_data[user_num]\n",
    "    sid_dict = {}\n",
    "    new_itemset = []\n",
    "    for item in itemset:\n",
    "        if(item in sid_dict):\n",
    "            sid_dict[item] += 1\n",
    "        else:\n",
    "            sid_dict[item] = 1\n",
    "    for sid,frequency in sid_dict.items():\n",
    "        new_sid = str(sid)\n",
    "        if(frequency<5):\n",
    "            new_sid += 'L'\n",
    "        if(frequency>=5 and frequency<10):\n",
    "            new_sid += 'M'\n",
    "        if(frequency>=10):\n",
    "            new_sid +='H'\n",
    "        new_itemset.append(new_sid)\n",
    "        \n",
    "    uid_songid_file_data[user_num] = new_itemset\n",
    "\n",
    "uid_songid_file_data[3]"
   ]
  },
  {
   "cell_type": "code",
   "execution_count": 27,
   "metadata": {},
   "outputs": [],
   "source": [
    "#Write the reduced dataset(frequency of songs in [11,5000]) in a file \n",
    "\n",
    "with open('./Dataset/filtered_uid_songid_dataset_freq_11_to_5000_with_HML.txt', 'w') as filehandle:\n",
    "    for itemset in uid_songid_file_data:\n",
    "        filehandle.write('%s\\n' % itemset)"
   ]
  },
  {
   "cell_type": "code",
   "execution_count": null,
   "metadata": {},
   "outputs": [],
   "source": []
  }
 ],
 "metadata": {
  "kernelspec": {
   "display_name": "Python 3",
   "language": "python",
   "name": "python3"
  },
  "language_info": {
   "codemirror_mode": {
    "name": "ipython",
    "version": 3
   },
   "file_extension": ".py",
   "mimetype": "text/x-python",
   "name": "python",
   "nbconvert_exporter": "python",
   "pygments_lexer": "ipython3",
   "version": "3.7.3"
  }
 },
 "nbformat": 4,
 "nbformat_minor": 2
}
