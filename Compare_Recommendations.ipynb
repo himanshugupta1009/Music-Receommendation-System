{
 "cells": [
  {
   "cell_type": "code",
   "execution_count": 25,
   "metadata": {},
   "outputs": [],
   "source": [
    "import ast\n",
    "import pandas as pd\n",
    "import sys\n",
    "import matplotlib.pylab as plt\n",
    "import timeit"
   ]
  },
  {
   "cell_type": "code",
   "execution_count": 39,
   "metadata": {},
   "outputs": [],
   "source": [
    "collaborative_filtering_results_file_location = './Dataset/Results_collaborative_filtering.txt'\n",
    "songid_mappings_file_location = './Dataset/kaggle_songs.txt'\n",
    "fp_growth_itemsets_all_dataset_file_location = './Dataset/frequent_itemsets_FP_growth_all_dataset_with_HML.txt'\n",
    "fp_growth_itemsets_reduced_dataset_file_location = './Dataset/frequent_itemsets_FP_growth_reduced_dataset_with_HML.txt'"
   ]
  },
  {
   "cell_type": "code",
   "execution_count": 27,
   "metadata": {},
   "outputs": [],
   "source": [
    "#CF\n",
    "\n",
    "songid_mappings_file = open(songid_mappings_file_location)\n",
    "songid_mappings = {}\n",
    "for line in songid_mappings_file:\n",
    "    temp_var = line.strip().split()\n",
    "    songid_mappings[temp_var[0]] = int(temp_var[1])\n",
    "\n",
    "songid_mappings_file.close()\n",
    "#songid_mappings\n",
    "\n",
    "collaborative_filtering_results_file = open(collaborative_filtering_results_file_location)\n",
    "collaborative_filtering_results_dict = {}\n",
    "for line in collaborative_filtering_results_file:\n",
    "    temp_results_string_songids = line.replace('{','').replace('}','').strip().split(',')\n",
    "    temp_results_numeric_songids = []\n",
    "    for songid in temp_results_string_songids:\n",
    "        temp_results_numeric_songids.append(songid_mappings[songid.strip()])\n",
    "    collaborative_filtering_results_dict[temp_results_numeric_songids[0]] = temp_results_numeric_songids[1:]\n",
    "collaborative_filtering_results_file.close()"
   ]
  },
  {
   "cell_type": "code",
   "execution_count": 28,
   "metadata": {},
   "outputs": [
    {
     "data": {
      "text/plain": [
       "163206"
      ]
     },
     "execution_count": 28,
     "metadata": {},
     "output_type": "execute_result"
    }
   ],
   "source": [
    "len(collaborative_filtering_results_dict)"
   ]
  },
  {
   "cell_type": "code",
   "execution_count": 63,
   "metadata": {},
   "outputs": [
    {
     "name": "stdout",
     "output_type": "stream",
     "text": [
      "Recommendations for songid = 133222 in descending order are : \n",
      "[18280, 139352, 260685, 28486, 118982, 204939, 261885, 141635, 319821, 221409, 309473, 188707, 174230, 338773, 245633, 315056, 338429, 76477, 190744, 100376, 338486, 238511, 28241, 162569, 39606, 370680, 71763, 277254, 87376, 351101, 7060, 172420, 109173, 213767, 293618, 50730, 368012, 354188, 177292, 234086, 180115, 326219, 221532, 156888, 355420, 68534, 251531, 335988, 322427, 21488, 115640, 69197, 227934, 290440, 227314, 9443, 169625, 332561, 220661, 236021, 179840, 297725, 362756, 56878, 31761, 277520, 383058, 4241, 250511, 383960, 30187, 198095, 270655, 87418, 174828, 359728, 155372, 278761, 35672, 167638, 236730, 83566, 22922, 314783, 91954, 35347, 57448, 285175, 337622, 189378, 147795, 51048, 230005, 51963, 180715, 155572, 17919, 119055, 276259, 249719, 114753, 28573, 48498, 321859, 322735, 338056, 209325, 103025, 7051, 67455, 27887, 241227, 26234, 367871, 288180, 351210, 266320, 235992, 175456, 256810, 361543, 174571, 215813, 377457, 114893, 309832, 196919, 300386, 77475, 73599, 162907, 139762, 30118, 38972, 356342, 270647, 20591, 45475, 18672, 29755, 73709, 24640, 56455, 383352, 314975, 341068, 211133, 260311, 385036, 129617, 152903, 287200, 97799, 122310, 154047, 55052, 200656, 73953, 302136, 109358, 335668, 62667, 373244, 61597, 51260, 356621, 219839, 160561, 146434, 363105, 177133, 64585, 244978, 322107, 339701, 156597, 99389, 115911, 322622, 193244, 162536, 109790, 166097, 82467, 372371, 155669, 125614, 102531, 205717, 83269, 42093, 138917, 253881, 142313, 53476, 61290, 144223, 142497, 261912, 150950, 240527, 118835, 56476, 71624, 109107, 6425, 712, 256023, 126581, 58388, 6370, 78229, 91018, 293682, 186995, 63133, 32976, 108111, 115254, 377784, 67770, 54107, 227732, 78273, 32910, 201729, 270217, 277846, 48148, 218744, 263699, 252762, 383371, 105546, 63474, 189828, 195209, 123817, 306076, 130542, 62730, 355439, 22575, 143737, 170464, 170750, 269710, 60563, 11389, 367546, 135890, 163160, 129264, 59066, 147726, 269873, 242981, 171195, 233668, 21777, 201104, 72737, 274761, 215324, 150571, 2587, 14029, 2702, 116011, 90127, 347697, 37393, 130253, 269384, 210207, 372402, 348672, 35554, 262052, 338229, 343276, 246973, 15338, 148639, 363719, 204931, 292126, 330222, 81869, 323109, 370631, 150501, 352907, 292743, 209364, 373016, 89895, 338564, 202697, 54082, 310842, 354139, 228847, 96722, 340469, 144583, 89193, 202005, 127233, 171781, 348799, 179123, 161405, 11969, 131175, 93237, 113656, 145124, 204891, 255929, 185175, 365546, 66277, 257378, 78027, 306056, 92197, 380068, 343716, 123613, 302741, 89000, 139601, 384742, 9596, 93956, 340483, 232744, 221789, 357083, 282661, 30494, 78527, 122146, 275294, 42836, 308499, 164921, 334573, 72880, 233715, 345873, 160375, 55975, 172712, 22339, 376957, 239344, 222348, 333683, 137782, 156641, 87365, 195736, 336894, 186071, 305128, 105644, 262858, 284201, 298921, 369576, 203759, 180291, 148495, 55161, 70672, 303717, 99387, 321050, 280249, 224405, 142002, 148795, 295536, 282354, 232978, 34596, 312672, 102344, 97555, 91855, 339552, 151080, 270553, 196697, 150299, 97202, 234666, 142310, 99255, 310703, 317455, 218136, 232883, 191955, 77558, 103930, 377658, 348033, 165488, 90751, 249480, 317418, 87025, 36614, 191540, 334576, 152874, 186107, 269851, 12033, 168165, 253656, 113210, 127093, 168534, 280044, 319209, 339093, 374336, 30477, 23525, 338143, 146182, 32365, 265389, 38231, 16774, 49433, 98560, 276493, 95266, 10390, 271800, 41844, 303397, 352773, 40930, 93898, 301809, 44520, 51544, 246934, 32673, 7301, 49150, 283369, 338010, 100588, 327408, 353198, 331870, 239236, 172303, 300015, 306190, 61901, 22314, 323879, 262741, 195417, 19961, 255110, 152821, 281890, 301262, 366860, 66919, 64662, 206213, 317024, 189042, 121211, 372457, 283201, 156865, 41812, 323631, 274854, 247572, 133355, 54301, 111176, 259812, 169516, 14478, 146364, 378965, 65708, 196554, 102111, 381584, 304178, 54, 26797, 304271, 79640, 290385, 75497, 284507, 202559, 341256, 219353, 254100, 31260, 281084, 107001, 338497, 281497, 203316, 308952, 84982, 193615, 316264, 162161, 154557, 234985, 97153, 209338, 172605, 154151, 218440, 338064, 217196, 42108, 206247, 179896, 173535, 96679, 121016, 318288, 330447, 64001, 189725, 18238, 375644, 164768, 162795, 278649, 346644, 243988, 284734, 242629, 128037, 100241, 181099, 84381, 248279, 150065, 145141, 273605, 43436, 126326, 340998, 276865, 361281, 286416, 116323, 186261, 234107, 100835, 90298, 282605, 168974, 238782, 84416, 107456, 305223, 206465, 259301, 136178, 159717, 140601, 70952, 110132, 252321, 19930, 110212, 274281, 91590, 313653, 225353, 354666, 302629, 257665, 45432, 280972, 204381, 55411, 166750, 45076, 125965, 75410, 241330, 244142, 36390, 212037, 276403, 241283, 266113, 40476, 321409, 240236, 47688, 114203, 260803, 30838, 245525, 300006, 156317, 123626, 351545, 13067, 283408, 105541, 115589, 42633, 169297, 167791, 91546, 382678, 170645, 324506, 167378, 287399, 269990, 108813, 219197, 89219, 351667, 370393, 154096, 177746, 101210, 246840, 117175, 348088, 23321, 301559, 209098, 152593, 74372, 158652, 30990, 249909, 2190, 340895, 20355, 307269, 384068, 183609, 285974, 206088, 250964, 178479, 47058, 293104, 136139, 125582, 380200, 287349, 76011, 21767, 273861, 84628, 337491, 24069, 3244, 119343, 308918, 142493, 329364, 96041, 374758, 144703, 218183, 21513, 56866, 55664, 34556, 174906, 199498, 42474, 297671, 372025, 111478, 109416, 34706, 116409, 93895, 346394, 141832, 283314, 144511, 180175, 335283, 185028, 314491, 207426, 210673, 206544, 15003, 186863, 102124, 201980, 98664, 362321, 247570, 174148, 368737, 48315, 78503, 302439, 172483, 343755, 343061, 49770, 233793, 339094, 322987, 332771, 220273, 516, 282103, 373947, 150684, 190006, 142602, 101204, 196700, 212675, 116185, 350908, 123769, 292369, 309958, 73317, 239018, 340072, 232040, 49724, 188333, 222088, 48333, 62467, 229348, 51070, 28632, 127365, 175099, 212753, 137197, 311604, 314350, 348629, 314086, 45592, 74558, 259912, 261596, 251150, 248603, 319788, 55364, 19682, 115162, 105694, 351764, 65358, 305991, 16220, 212017, 187097, 311262, 208383, 207935, 180413, 307140, 105434, 310418, 54386, 291341, 302369, 245936, 38941, 183796, 24825, 244143, 221730, 25150, 333259, 302247, 315812, 87433, 288653, 14397, 12985, 91177]\n"
     ]
    }
   ],
   "source": [
    "#Recommendation from CF\n",
    "\n",
    "songid = 133222\n",
    "if songid in collaborative_filtering_results_dict:\n",
    "    print(\"Recommendations for songid = \"+str(songid) +\" in descending order are : \" )\n",
    "    print(collaborative_filtering_results_dict[songid])\n",
    "else:\n",
    "    print(\"We don't have song recommendations for this song from this method. Sorry!\")\n",
    "    \n",
    "cf_recommendation = collaborative_filtering_results_dict[songid]"
   ]
  },
  {
   "cell_type": "code",
   "execution_count": null,
   "metadata": {},
   "outputs": [],
   "source": []
  },
  {
   "cell_type": "markdown",
   "metadata": {},
   "source": [
    "**FOR FP-GROWTH ON ALL DATASET (with HML)**"
   ]
  },
  {
   "cell_type": "code",
   "execution_count": 46,
   "metadata": {},
   "outputs": [],
   "source": [
    "fp_growth_itemsets_all_dataset_file = open(fp_growth_itemsets_all_dataset_file_location)\n",
    "fp_growth_itemsets_all_dataset = []\n",
    "for line in fp_growth_itemsets_all_dataset_file:\n",
    "    itemset = line.strip().replace(']','').replace('[','').replace(\"'\",'').replace(\" \",'').split(',')\n",
    "    fp_growth_itemsets_all_dataset.append(itemset)\n",
    "    \n",
    "fp_growth_itemsets_all_dataset_file.close()"
   ]
  },
  {
   "cell_type": "code",
   "execution_count": 64,
   "metadata": {},
   "outputs": [
    {
     "name": "stdout",
     "output_type": "stream",
     "text": [
      "Recommendations for songid = 133222 in descending order are : \n",
      "[180115, 285175, 234086, 31761, 241227, 354188, 363105, 57448, 162907, 310842, 347697, 48148, 284507, 59066, 97555, 363719, 75497, 148639, 109790]\n"
     ]
    }
   ],
   "source": [
    "#Recommendations from FP growth\n",
    "\n",
    "#songid = 14397\n",
    "songid = 133222\n",
    "\n",
    "possible_songids = [str(songid)+'L', str(songid)+'M', str(songid)+'H']\n",
    "\n",
    "recommendations_L = []\n",
    "recommendations_M = []\n",
    "recommendations_H = []\n",
    "\n",
    "for itemset in fp_growth_itemsets_all_dataset:\n",
    "    \n",
    "    songid_exists_flag = (possible_songids[0] in itemset) or (possible_songids[1] in itemset) or (possible_songids[2] in itemset)\n",
    "    \n",
    "    if( songid_exists_flag ):\n",
    "        to_be_added = itemset.copy()\n",
    "        if possible_songids[0] in itemset:\n",
    "            to_be_added.remove(possible_songids[0])\n",
    "        if possible_songids[1] in itemset:\n",
    "            to_be_added.remove(possible_songids[1])\n",
    "        if possible_songids[2] in itemset:\n",
    "            to_be_added.remove(possible_songids[2])\n",
    "        for song in to_be_added:\n",
    "            if 'L' in song:\n",
    "                if song not in recommendations_L:\n",
    "                    recommendations_L.append(song)\n",
    "            elif 'M' in song:\n",
    "                if song not in recommendations_M:\n",
    "                    recommendations_M.append(song)\n",
    "            elif 'H' in song:\n",
    "                if song not in recommendations_H:\n",
    "                    recommendations_H.append(song)\n",
    "            \n",
    "recommendations = recommendations_H + recommendations_M + recommendations_L\n",
    "clean_recommendations = []\n",
    "for i in range(len(recommendations)):\n",
    "    if 'L' in recommendations[i]:\n",
    "        clean_recommendations.append(int(recommendations[i].replace('L','')))\n",
    "    elif 'M' in recommendations[i]:\n",
    "        clean_recommendations.append(int(recommendations[i].replace('M','')))\n",
    "    elif 'H' in recommendations[i]:\n",
    "        clean_recommendations.append(int(recommendations[i].replace('H','')))\n",
    "        \n",
    "if(len(clean_recommendations) == 0):\n",
    "    print(\"We don't have song recommendations for this song from this method. Sorry!\")\n",
    "else:\n",
    "    print(\"Recommendations for songid = \"+str(songid) +\" in descending order are : \" )\n",
    "    print(clean_recommendations)\n",
    "\n",
    "fp_growth_recommendations_ad = clean_recommendations"
   ]
  },
  {
   "cell_type": "code",
   "execution_count": null,
   "metadata": {},
   "outputs": [],
   "source": []
  },
  {
   "cell_type": "markdown",
   "metadata": {},
   "source": [
    "**FOR FP-GROWTH ON REDUCED DATASET (with HML)**"
   ]
  },
  {
   "cell_type": "code",
   "execution_count": 51,
   "metadata": {},
   "outputs": [],
   "source": [
    "fp_growth_itemsets_reduced_dataset_file = open(fp_growth_itemsets_reduced_dataset_file_location)\n",
    "fp_growth_itemsets_reduced_dataset = []\n",
    "for line in fp_growth_itemsets_reduced_dataset_file:\n",
    "    itemset = line.strip().replace(']','').replace('[','').replace(\"'\",'').replace(\" \",'').split(',')\n",
    "    fp_growth_itemsets_reduced_dataset.append(itemset)\n",
    "    \n",
    "fp_growth_itemsets_reduced_dataset_file.close()"
   ]
  },
  {
   "cell_type": "code",
   "execution_count": 65,
   "metadata": {},
   "outputs": [
    {
     "name": "stdout",
     "output_type": "stream",
     "text": [
      "Recommendations for songid = 133222 in descending order are : \n",
      "[180115, 285175, 234086, 31761, 241227, 354188, 363105, 57448, 162907, 310842, 347697, 48148, 284507, 59066, 97555, 363719, 75497, 148639, 109790]\n"
     ]
    }
   ],
   "source": [
    "#Recommendations from FP growth\n",
    "\n",
    "#songid = 14397\n",
    "songid = 133222\n",
    "\n",
    "possible_songids = [str(songid)+'L', str(songid)+'M', str(songid)+'H']\n",
    "\n",
    "recommendations_L = []\n",
    "recommendations_M = []\n",
    "recommendations_H = []\n",
    "\n",
    "for itemset in fp_growth_itemsets_reduced_dataset:\n",
    "    \n",
    "    songid_exists_flag = (possible_songids[0] in itemset) or (possible_songids[1] in itemset) or (possible_songids[2] in itemset)\n",
    "    \n",
    "    if( songid_exists_flag ):\n",
    "        to_be_added = itemset.copy()\n",
    "        if possible_songids[0] in itemset:\n",
    "            to_be_added.remove(possible_songids[0])\n",
    "        if possible_songids[1] in itemset:\n",
    "            to_be_added.remove(possible_songids[1])\n",
    "        if possible_songids[2] in itemset:\n",
    "            to_be_added.remove(possible_songids[2])\n",
    "        for song in to_be_added:\n",
    "            if 'L' in song:\n",
    "                if song not in recommendations_L:\n",
    "                    recommendations_L.append(song)\n",
    "            elif 'M' in song:\n",
    "                if song not in recommendations_M:\n",
    "                    recommendations_M.append(song)\n",
    "            elif 'H' in song:\n",
    "                if song not in recommendations_H:\n",
    "                    recommendations_H.append(song)\n",
    "            \n",
    "recommendations = recommendations_H + recommendations_M + recommendations_L\n",
    "clean_recommendations = []\n",
    "for i in range(len(recommendations)):\n",
    "    if 'L' in recommendations[i]:\n",
    "        clean_recommendations.append(int(recommendations[i].replace('L','')))\n",
    "    elif 'M' in recommendations[i]:\n",
    "        clean_recommendations.append(int(recommendations[i].replace('M','')))\n",
    "    elif 'H' in recommendations[i]:\n",
    "        clean_recommendations.append(int(recommendations[i].replace('H','')))\n",
    "        clean_recommendations\n",
    "if(len(clean_recommendations) == 0):\n",
    "    print(\"We don't have song recommendations for this song from this method. Sorry!\")\n",
    "else:\n",
    "    print(\"Recommendations for songid = \"+str(songid) +\" in descending order are : \" )\n",
    "    print(clean_recommendations)\n",
    "\n",
    "fp_growth_recommendations_rd = clean_recommendations"
   ]
  },
  {
   "cell_type": "code",
   "execution_count": 66,
   "metadata": {},
   "outputs": [
    {
     "name": "stdout",
     "output_type": "stream",
     "text": [
      "% Overlap of recommendations from FP growth on all dataset and CF wrt to recommendations from CF 2.3485784919653896\n",
      "% Overlap of recommendations from FP growth on all dataset and CF wrt to recommendations from FP growth 100.0\n",
      "% Overlap of recommendations from FP growth on reduced dataset and CF wrt to recommendations from CF 2.3485784919653896\n",
      "% Overlap of recommendations from FP growth on reduced dataset and CF wrt to recommendations from FP growth 100.0\n"
     ]
    }
   ],
   "source": [
    "overlap_fp_ad_cf = []\n",
    "overlap_fp_rd_cf = []\n",
    "\n",
    "for songid in fp_growth_recommendations_ad:\n",
    "    if songid in cf_recommendation:\n",
    "        overlap_fp_ad_cf.append(songid)\n",
    "\n",
    "for songid in fp_growth_recommendations_rd:\n",
    "    if songid in cf_recommendation:\n",
    "        overlap_fp_rd_cf.append(songid)\n",
    "\n",
    "if len(cf_recommendation) != 0:\n",
    "    percentage_overlap_fp_ad_wrt_cf_recs = len(overlap_fp_ad_cf)/len(cf_recommendation)\n",
    "else:\n",
    "    percentage_overlap_fp_ad_wrt_cf_recs = 0\n",
    "if len(fp_growth_recommendations_ad) != 0:\n",
    "    percentage_overlap_fp_ad_wrt_fp_ad_recs = len(overlap_fp_ad_cf)/len(fp_growth_recommendations_ad)\n",
    "else:\n",
    "    percentage_overlap_fp_ad_wrt_fp_ad_recs= 0\n",
    "if len(cf_recommendation) !=0:\n",
    "    percentage_overlap_fp_rd_wrt_cf_recs = len(overlap_fp_rd_cf)/len(cf_recommendation)\n",
    "else:\n",
    "    percentage_overlap_fp_rd_wrt_cf_recs = 0\n",
    "if len(fp_growth_recommendations_rd)!=0:\n",
    "    percentage_overlap_fp_rd_wrt_fp_rd_recs = len(overlap_fp_rd_cf)/len(fp_growth_recommendations_rd)\n",
    "else:\n",
    "    percentage_overlap_fp_rd_wrt_fp_rd_recs = 0\n",
    "\n",
    "print(\"% Overlap of recommendations from FP growth on all dataset and CF wrt to recommendations from CF \" + str(percentage_overlap_fp_ad_wrt_cf_recs*100))\n",
    "print(\"% Overlap of recommendations from FP growth on all dataset and CF wrt to recommendations from FP growth \" + str(percentage_overlap_fp_ad_wrt_fp_ad_recs*100))\n",
    "print(\"% Overlap of recommendations from FP growth on reduced dataset and CF wrt to recommendations from CF \" + str(percentage_overlap_fp_rd_wrt_cf_recs*100))\n",
    "print(\"% Overlap of recommendations from FP growth on reduced dataset and CF wrt to recommendations from FP growth \" + str(percentage_overlap_fp_rd_wrt_fp_rd_recs*100))\n"
   ]
  },
  {
   "cell_type": "code",
   "execution_count": 72,
   "metadata": {},
   "outputs": [],
   "source": [
    "#Function to return list of recommendations\n",
    "\n",
    "def get_recommendations_fp_growth(fp_growth_itemsets,songid):\n",
    "\n",
    "    possible_songids = [str(songid)+'L', str(songid)+'M', str(songid)+'H']\n",
    "\n",
    "    recommendations_L = []\n",
    "    recommendations_M = []\n",
    "    recommendations_H = []\n",
    "\n",
    "    for itemset in fp_growth_itemsets:\n",
    "\n",
    "        songid_exists_flag = (possible_songids[0] in itemset) or (possible_songids[1] in itemset) or (possible_songids[2] in itemset)\n",
    "\n",
    "        if( songid_exists_flag ):\n",
    "            to_be_added = itemset.copy()\n",
    "            if possible_songids[0] in itemset:\n",
    "                to_be_added.remove(possible_songids[0])\n",
    "            if possible_songids[1] in itemset:\n",
    "                to_be_added.remove(possible_songids[1])\n",
    "            if possible_songids[2] in itemset:\n",
    "                to_be_added.remove(possible_songids[2])\n",
    "            for song in to_be_added:\n",
    "                if 'L' in song:\n",
    "                    if song not in recommendations_L:\n",
    "                        recommendations_L.append(song)\n",
    "                elif 'M' in song:\n",
    "                    if song not in recommendations_M:\n",
    "                        recommendations_M.append(song)\n",
    "                elif 'H' in song:\n",
    "                    if song not in recommendations_H:\n",
    "                        recommendations_H.append(song)\n",
    "\n",
    "    recommendations = recommendations_H + recommendations_M + recommendations_L\n",
    "    clean_recommendations = []\n",
    "    for i in range(len(recommendations)):\n",
    "        if 'L' in recommendations[i]:\n",
    "            clean_recommendations.append(int(recommendations[i].replace('L','')))\n",
    "        elif 'M' in recommendations[i]:\n",
    "            clean_recommendations.append(int(recommendations[i].replace('M','')))\n",
    "        elif 'H' in recommendations[i]:\n",
    "            clean_recommendations.append(int(recommendations[i].replace('H','')))\n",
    "            clean_recommendations\n",
    "#     if(len(clean_recommendations) == 0):\n",
    "#         print(\"We don't have song recommendations for this song from this method. Sorry!\")\n",
    "#     else:\n",
    "#         print(\"Recommendations for songid = \"+str(songid) +\" in descending order are : \" )\n",
    "#         print(clean_recommendations)\n",
    "\n",
    "    return clean_recommendations\n"
   ]
  },
  {
   "cell_type": "code",
   "execution_count": null,
   "metadata": {},
   "outputs": [],
   "source": [
    "percentage_overlap_fp_ad_wrt_cf_recs = 0.0\n",
    "percentage_overlap_fp_ad_wrt_fp_ad_recs = 0.0\n",
    "percentage_overlap_fp_rd_wrt_cf_recs = 0.0\n",
    "percentage_overlap_fp_rd_wrt_fp_rd_recs = 0.0\n",
    "\n",
    "for song,recommendations in collaborative_filtering_results_dict.items():\n",
    "    cf_recs = recommendations\n",
    "    fp_ad_recs = get_recommendations_fp_growth(fp_growth_itemsets_all_dataset,song)\n",
    "    fp_rd_recs = get_recommendations_fp_growth(fp_growth_itemsets_reduced_dataset,song)\n",
    "    \n",
    "    overlap_fp_ad_cf = []\n",
    "    overlap_fp_rd_cf = []\n",
    "\n",
    "    for songid in fp_ad_recs:\n",
    "        if songid in cf_recs:\n",
    "            overlap_fp_ad_cf.append(song)\n",
    "\n",
    "    for songid in fp_rd_recs:\n",
    "        if songid in cf_recs:\n",
    "            overlap_fp_rd_cf.append(song)\n",
    "\n",
    "    if len(cf_recommendation) != 0:\n",
    "        percentage_overlap_fp_ad_wrt_cf_recs += len(overlap_fp_ad_cf)/len(cf_recommendation)\n",
    "    else:\n",
    "        percentage_overlap_fp_ad_wrt_cf_recs += 0\n",
    "    if len(fp_growth_recommendations_ad) != 0:\n",
    "        percentage_overlap_fp_ad_wrt_fp_ad_recs += len(overlap_fp_ad_cf)/len(fp_growth_recommendations_ad)\n",
    "    else:\n",
    "        percentage_overlap_fp_ad_wrt_fp_ad_recs += 0\n",
    "    if len(cf_recommendation) !=0:\n",
    "        percentage_overlap_fp_rd_wrt_cf_recs += len(overlap_fp_rd_cf)/len(cf_recommendation)\n",
    "    else:\n",
    "        percentage_overlap_fp_rd_wrt_cf_recs += 0\n",
    "    if len(fp_growth_recommendations_rd)!=0:\n",
    "        percentage_overlap_fp_rd_wrt_fp_rd_recs += len(overlap_fp_rd_cf)/len(fp_growth_recommendations_rd)\n",
    "    else:\n",
    "        percentage_overlap_fp_rd_wrt_fp_rd_recs += 0\n",
    "\n",
    "percentage_overlap_fp_ad_wrt_cf_recs = (percentage_overlap_fp_ad_wrt_cf_recs *100)/len(collaborative_filtering_results_dict)\n",
    "percentage_overlap_fp_ad_wrt_fp_ad_recs = (percentage_overlap_fp_ad_wrt_cf_recs *100)/len(collaborative_filtering_results_dict)\n",
    "percentage_overlap_fp_rd_wrt_cf_recs = (percentage_overlap_fp_ad_wrt_cf_recs *100)/len(collaborative_filtering_results_dict)\n",
    "percentage_overlap_fp_rd_wrt_fp_rd_recs = (percentage_overlap_fp_ad_wrt_cf_recs *100)/len(collaborative_filtering_results_dict)\n",
    "        \n",
    "print(\"% Overlap of recommendations from FP growth on all dataset and CF wrt to recommendations from CF \" + str(percentage_overlap_fp_ad_wrt_cf_recs))\n",
    "print(\"% Overlap of recommendations from FP growth on all dataset and CF wrt to recommendations from FP growth \" + str(percentage_overlap_fp_ad_wrt_fp_ad_recs))\n",
    "print(\"% Overlap of recommendations from FP growth on reduced dataset and CF wrt to recommendations from CF \" + str(percentage_overlap_fp_rd_wrt_cf_recs))\n",
    "print(\"% Overlap of recommendations from FP growth on reduced dataset and CF wrt to recommendations from FP growth \" + str(percentage_overlap_fp_rd_wrt_fp_rd_recs))\n"
   ]
  },
  {
   "cell_type": "code",
   "execution_count": null,
   "metadata": {},
   "outputs": [],
   "source": []
  }
 ],
 "metadata": {
  "kernelspec": {
   "display_name": "Python 3",
   "language": "python",
   "name": "python3"
  },
  "language_info": {
   "codemirror_mode": {
    "name": "ipython",
    "version": 3
   },
   "file_extension": ".py",
   "mimetype": "text/x-python",
   "name": "python",
   "nbconvert_exporter": "python",
   "pygments_lexer": "ipython3",
   "version": "3.7.3"
  }
 },
 "nbformat": 4,
 "nbformat_minor": 2
}
