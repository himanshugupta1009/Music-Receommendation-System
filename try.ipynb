{
 "cells": [
  {
   "cell_type": "code",
   "execution_count": null,
   "metadata": {
    "pycharm": {
     "is_executing": true,
     "name": "#%%\n"
    }
   },
   "outputs": [],
   "source": [
    "import pandas as pd\n",
    "import sys\n",
    "import matplotlib.pylab as plt\n",
    "import operator\n",
    "from mlxtend.frequent_patterns import apriori\n",
    "from mlxtend.preprocessing import TransactionEncoder\n",
    "\n",
    "\n",
    "uid_songid_file_location = './Dataset/byUser.csv'\n",
    "songid_uid_file_location = './Dataset/bySong.csv'\n",
    "songid_mappings_file_location = './Dataset/kaggle_songs.txt'\n",
    "uid_songid_triplets_file_location = './Dataset/kaggle_visible_evaluation_triplets.txt'\n",
    "\n",
    "\n",
    "uid_songid_file = open(uid_songid_file_location)\n",
    "uid_songid_file_data = []\n",
    "for line in uid_songid_file:\n",
    "    uid_songid_file_data.append(line.strip().split('\\t')[1].strip().split(','))\n",
    "uid_songid_file_data = uid_songid_file_data[1:]\n",
    "uid_songid_file.close()\n",
    "\n",
    "\n",
    "songid_mappings_file = open(songid_mappings_file_location)\n",
    "songid_mappings = {}\n",
    "for line in songid_mappings_file:\n",
    "    #print(line)\n",
    "    temp_var = line.strip().split()\n",
    "    songid_mappings[temp_var[0]] = int(temp_var[1])\n",
    "\n",
    "songid_mappings_file.close()\n",
    "\n",
    "\n",
    "uid_songid_transaction_data = uid_songid_file_data[1:10]\n",
    "\n",
    "transaction_encoder = TransactionEncoder()\n",
    "transaction_encoder_nd_array = transaction_encoder.fit(uid_songid_transaction_data).transform(uid_songid_transaction_data)\n",
    "df = pd.DataFrame(transaction_encoder_nd_array, columns=transaction_encoder.columns_)\n",
    "\n",
    "apriori(df, min_support=0.002)"
   ]
  }
 ],
 "metadata": {
  "kernelspec": {
   "display_name": "Python 3",
   "language": "python",
   "name": "python3"
  },
  "language_info": {
   "codemirror_mode": {
    "name": "ipython",
    "version": 3
   },
   "file_extension": ".py",
   "mimetype": "text/x-python",
   "name": "python",
   "nbconvert_exporter": "python",
   "pygments_lexer": "ipython3",
   "version": "3.7.3"
  },
  "pycharm": {
   "stem_cell": {
    "cell_type": "raw",
    "source": [],
    "metadata": {
     "collapsed": false
    }
   }
  }
 },
 "nbformat": 4,
 "nbformat_minor": 2
}